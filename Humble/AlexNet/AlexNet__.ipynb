{
 "cells": [
  {
   "cell_type": "code",
   "execution_count": 32,
   "id": "german-voltage",
   "metadata": {},
   "outputs": [],
   "source": [
    "import tensorflow as tf\n",
    "from tensorflow import keras\n",
    "\n",
    "import numpy as np"
   ]
  },
  {
   "cell_type": "code",
   "execution_count": 33,
   "id": "educational-badge",
   "metadata": {},
   "outputs": [
    {
     "name": "stderr",
     "output_type": "stream",
     "text": [
      "C:\\ProgramData\\Anaconda3\\envs\\Humble\\lib\\site-packages\\tensorflow\\python\\client\\session.py:1761: UserWarning: An interactive session is already active. This can cause out-of-memory errors in some cases. You must explicitly call `InteractiveSession.close()` to release resources held by the other session(s).\n",
      "  warnings.warn('An interactive session is already active. This can '\n"
     ]
    }
   ],
   "source": [
    "config = tf.compat.v1.ConfigProto()\n",
    "config.gpu_options.per_process_gpu_memory_fraction = 0.4\n",
    "session = tf.compat.v1.InteractiveSession(config=config)"
   ]
  },
  {
   "cell_type": "code",
   "execution_count": 108,
   "id": "massive-compromise",
   "metadata": {},
   "outputs": [],
   "source": [
    "import os, re, glob\n",
    "import cv2\n",
    "\n",
    "image_size = 227\n",
    "\n",
    "#groups_folder_path = '../Images/After_AAFT/'\n",
    "groups_folder_path = '../Images/After_image/'\n",
    "\n",
    "X_s = []\n",
    "\n",
    "y = []"
   ]
  },
  {
   "cell_type": "code",
   "execution_count": 109,
   "id": "desperate-suspect",
   "metadata": {},
   "outputs": [
    {
     "name": "stdout",
     "output_type": "stream",
     "text": [
      "(227, 227, 3)\n"
     ]
    }
   ],
   "source": [
    "for label in ['Bi', 'Tri']:\n",
    "\n",
    "    for feature in ['striping_midAng_bw']:\n",
    "\n",
    "        for top, dir, f in os.walk(groups_folder_path + label + \"/\" + feature + \"/\"):\n",
    "            for filename in f:\n",
    "                img = cv2.imread(groups_folder_path + label + \"/\" + feature + \"/\" + filename)\n",
    "                img = cv2.resize(img, None, fx=image_size / img.shape[0], fy=image_size / img.shape[1])\n",
    "\n",
    "                #if feature == 'striping_bw':\n",
    "                X_s.append(img / 256)\n",
    "\n",
    "                if label == 'Bi':\n",
    "                    y.append(2)\n",
    "                else:\n",
    "                    y.append(3)\n",
    "\n",
    "print(X_s[0].shape)"
   ]
  },
  {
   "cell_type": "code",
   "execution_count": 110,
   "id": "front-announcement",
   "metadata": {},
   "outputs": [],
   "source": [
    "X = np.array(X_s)\n",
    "y = np.array(y)"
   ]
  },
  {
   "cell_type": "code",
   "execution_count": 111,
   "id": "generous-jacob",
   "metadata": {},
   "outputs": [
    {
     "name": "stdout",
     "output_type": "stream",
     "text": [
      "180\n",
      "129\n"
     ]
    }
   ],
   "source": [
    "# train, test split\n",
    "from sklearn.model_selection import train_test_split\n",
    "\n",
    "X_train, X_test, y_train, y_test = train_test_split(X, y, test_size=0.2, random_state=42, stratify=y)\n",
    "\n",
    "# validation split\n",
    "\n",
    "X_train, X_validation, y_train, y_validation = train_test_split(X_train, y_train, test_size=0.1, random_state=10, stratify=y_train)\n",
    "print(len(y))\n",
    "print(len(y_train))\n",
    "AlexNet = keras.models.Sequential([\n",
    "        keras.layers.Conv2D(256, (6, 6), activation='relu', input_shape=X_train[0].shape),\n",
    "        keras.layers.MaxPooling2D( (2, 2) ),\n",
    "        keras.layers.BatchNormalization(),\n",
    "\n",
    "\n",
    "        keras.layers.Conv2D(384, (3, 3), padding='same', activation='relu'),\n",
    "        keras.layers.MaxPooling2D( (2, 2) ),\n",
    "        keras.layers.BatchNormalization(),\n",
    "\n",
    "        keras.layers.Conv2D(384, (3, 3), padding='same', activation='relu'),\n",
    "        keras.layers.MaxPooling2D( (2, 2) ),\n",
    "        keras.layers.BatchNormalization(),\n",
    "\n",
    "        keras.layers.Conv2D(256, (3, 3), padding='same', activation='relu'),\n",
    "        keras.layers.MaxPooling2D( (2, 2) ),\n",
    "        keras.layers.BatchNormalization(),\n",
    "\n",
    "        keras.layers.Flatten(),\n",
    "        keras.layers.Dense(1024, activation='relu'),\n",
    "        keras.layers.Dense(1024, activation='relu'),\n",
    "\n",
    "        keras.layers.Dense(len(y_train), activation='softmax')\n",
    "])"
   ]
  },
  {
   "cell_type": "code",
   "execution_count": 112,
   "id": "canadian-burden",
   "metadata": {},
   "outputs": [
    {
     "name": "stdout",
     "output_type": "stream",
     "text": [
      "Model: \"sequential_7\"\n",
      "_________________________________________________________________\n",
      "Layer (type)                 Output Shape              Param #   \n",
      "=================================================================\n",
      "conv2d_28 (Conv2D)           (None, 222, 222, 256)     27904     \n",
      "_________________________________________________________________\n",
      "max_pooling2d_28 (MaxPooling (None, 111, 111, 256)     0         \n",
      "_________________________________________________________________\n",
      "batch_normalization_28 (Batc (None, 111, 111, 256)     1024      \n",
      "_________________________________________________________________\n",
      "conv2d_29 (Conv2D)           (None, 111, 111, 384)     885120    \n",
      "_________________________________________________________________\n",
      "max_pooling2d_29 (MaxPooling (None, 55, 55, 384)       0         \n",
      "_________________________________________________________________\n",
      "batch_normalization_29 (Batc (None, 55, 55, 384)       1536      \n",
      "_________________________________________________________________\n",
      "conv2d_30 (Conv2D)           (None, 55, 55, 384)       1327488   \n",
      "_________________________________________________________________\n",
      "max_pooling2d_30 (MaxPooling (None, 27, 27, 384)       0         \n",
      "_________________________________________________________________\n",
      "batch_normalization_30 (Batc (None, 27, 27, 384)       1536      \n",
      "_________________________________________________________________\n",
      "conv2d_31 (Conv2D)           (None, 27, 27, 256)       884992    \n",
      "_________________________________________________________________\n",
      "max_pooling2d_31 (MaxPooling (None, 13, 13, 256)       0         \n",
      "_________________________________________________________________\n",
      "batch_normalization_31 (Batc (None, 13, 13, 256)       1024      \n",
      "_________________________________________________________________\n",
      "flatten_7 (Flatten)          (None, 43264)             0         \n",
      "_________________________________________________________________\n",
      "dense_21 (Dense)             (None, 1024)              44303360  \n",
      "_________________________________________________________________\n",
      "dense_22 (Dense)             (None, 1024)              1049600   \n",
      "_________________________________________________________________\n",
      "dense_23 (Dense)             (None, 129)               132225    \n",
      "=================================================================\n",
      "Total params: 48,615,809\n",
      "Trainable params: 48,613,249\n",
      "Non-trainable params: 2,560\n",
      "_________________________________________________________________\n"
     ]
    }
   ],
   "source": [
    "AlexNet.summary()"
   ]
  },
  {
   "cell_type": "code",
   "execution_count": 113,
   "id": "signal-torture",
   "metadata": {},
   "outputs": [],
   "source": [
    "AlexNet.compile(loss=keras.losses.sparse_categorical_crossentropy,\n",
    "              optimizer=keras.optimizers.SGD(learning_rate=0.01),\n",
    "              metrics=[keras.metrics.sparse_categorical_accuracy])"
   ]
  },
  {
   "cell_type": "code",
   "execution_count": 114,
   "id": "integrated-attempt",
   "metadata": {},
   "outputs": [
    {
     "name": "stdout",
     "output_type": "stream",
     "text": [
      "Epoch 1/10\n",
      "9/9 [==============================] - 5s 539ms/step - loss: 1.5570 - sparse_categorical_accuracy: 0.6911 - val_loss: 4.4597 - val_sparse_categorical_accuracy: 0.8667\n",
      "Epoch 2/10\n",
      "9/9 [==============================] - 1s 123ms/step - loss: 7.7516e-04 - sparse_categorical_accuracy: 1.0000 - val_loss: 4.2680 - val_sparse_categorical_accuracy: 0.8000\n",
      "Epoch 3/10\n",
      "9/9 [==============================] - 1s 122ms/step - loss: 1.9118e-04 - sparse_categorical_accuracy: 1.0000 - val_loss: 4.0559 - val_sparse_categorical_accuracy: 0.3333\n",
      "Epoch 4/10\n",
      "9/9 [==============================] - 1s 123ms/step - loss: 2.5950e-04 - sparse_categorical_accuracy: 1.0000 - val_loss: 3.8507 - val_sparse_categorical_accuracy: 0.3333\n",
      "Epoch 5/10\n",
      "9/9 [==============================] - 1s 123ms/step - loss: 3.1908e-04 - sparse_categorical_accuracy: 1.0000 - val_loss: 3.6447 - val_sparse_categorical_accuracy: 0.3333\n",
      "Epoch 6/10\n",
      "9/9 [==============================] - 1s 123ms/step - loss: 1.1160e-04 - sparse_categorical_accuracy: 1.0000 - val_loss: 3.4540 - val_sparse_categorical_accuracy: 0.3333\n",
      "Epoch 7/10\n",
      "9/9 [==============================] - 1s 123ms/step - loss: 9.2646e-05 - sparse_categorical_accuracy: 1.0000 - val_loss: 3.2786 - val_sparse_categorical_accuracy: 0.3333\n",
      "Epoch 8/10\n",
      "9/9 [==============================] - 1s 123ms/step - loss: 7.4354e-05 - sparse_categorical_accuracy: 1.0000 - val_loss: 3.1261 - val_sparse_categorical_accuracy: 0.3333\n",
      "Epoch 9/10\n",
      "9/9 [==============================] - 1s 122ms/step - loss: 1.0824e-04 - sparse_categorical_accuracy: 1.0000 - val_loss: 2.9877 - val_sparse_categorical_accuracy: 0.3333\n",
      "Epoch 10/10\n",
      "9/9 [==============================] - 1s 122ms/step - loss: 8.7732e-05 - sparse_categorical_accuracy: 1.0000 - val_loss: 2.8545 - val_sparse_categorical_accuracy: 0.3333\n"
     ]
    }
   ],
   "source": [
    "AlexNet_history = AlexNet.fit(X_train, y_train, epochs=10, batch_size=16,\n",
    "                    validation_data=(X_validation, y_validation))"
   ]
  },
  {
   "cell_type": "code",
   "execution_count": 115,
   "id": "every-serve",
   "metadata": {},
   "outputs": [
    {
     "data": {
      "image/png": "[encoded data removed]",
      "text/plain": [
       "<Figure size 432x288 with 1 Axes>"
      ]
     },
     "metadata": {
      "needs_background": "light"
     },
     "output_type": "display_data"
    }
   ],
   "source": [
    "import matplotlib.pyplot as plt\n",
    "\n",
    "#print(AlexNet_history.history)\n",
    "\n",
    "plt.plot(AlexNet_history.history['val_sparse_categorical_accuracy'])\n",
    "plt.legend(['val_acc'], loc= 'upper left')\n",
    "plt.show()"
   ]
  },
  {
   "cell_type": "code",
   "execution_count": 116,
   "id": "complicated-sodium",
   "metadata": {},
   "outputs": [
    {
     "name": "stdout",
     "output_type": "stream",
     "text": [
      "9/9 [==============================] - 0s 36ms/step - loss: 2.9518 - sparse_categorical_accuracy: 0.3333\n"
     ]
    }
   ],
   "source": [
    "loss_and_metric = AlexNet.evaluate(X_train, y_train, batch_size = 16, verbose=1)"
   ]
  },
  {
   "cell_type": "code",
   "execution_count": 117,
   "id": "chemical-grace",
   "metadata": {},
   "outputs": [
    {
     "name": "stdout",
     "output_type": "stream",
     "text": [
      "Train, loss and metric: [2.9517524242401123, 0.3333333432674408]\n"
     ]
    }
   ],
   "source": [
    "print(f\"Train, loss and metric: {loss_and_metric}\")"
   ]
  },
  {
   "cell_type": "code",
   "execution_count": 118,
   "id": "equal-analyst",
   "metadata": {},
   "outputs": [
    {
     "name": "stdout",
     "output_type": "stream",
     "text": [
      "3/3 [==============================] - 1s 456ms/step - loss: 2.8955 - sparse_categorical_accuracy: 0.3333\n"
     ]
    }
   ],
   "source": [
    "loss_and_metric = AlexNet.evaluate(X_test, y_test, batch_size = 16, verbose=1)"
   ]
  },
  {
   "cell_type": "code",
   "execution_count": 119,
   "id": "composed-dealer",
   "metadata": {},
   "outputs": [
    {
     "name": "stdout",
     "output_type": "stream",
     "text": [
      "Test, loss and metric: [2.8955154418945312, 0.3333333432674408]\n"
     ]
    }
   ],
   "source": [
    "print(f\"Test, loss and metric: {loss_and_metric}\")"
   ]
  }
 ],
 "metadata": {
  "kernelspec": {
   "display_name": "Humble",
   "language": "python",
   "name": "humble"
  },
  "language_info": {
   "codemirror_mode": {
    "name": "ipython",
    "version": 3
   },
   "file_extension": ".py",
   "mimetype": "text/x-python",
   "name": "python",
   "nbconvert_exporter": "python",
   "pygments_lexer": "ipython3",
   "version": "3.7.9"
  }
 },
 "nbformat": 4,
 "nbformat_minor": 5
}
