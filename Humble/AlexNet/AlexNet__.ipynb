{
 "cells": [
  {
   "cell_type": "code",
   "execution_count": 1,
   "id": "compressed-beginning",
   "metadata": {},
   "outputs": [],
   "source": [
    "import tensorflow as tf\n",
    "from tensorflow import keras\n",
    "\n",
    "import numpy as np"
   ]
  },
  {
   "cell_type": "code",
   "execution_count": 2,
   "id": "homeless-metadata",
   "metadata": {},
   "outputs": [],
   "source": [
    "config = tf.compat.v1.ConfigProto()\n",
    "config.gpu_options.per_process_gpu_memory_fraction = 0.4\n",
    "session = tf.compat.v1.InteractiveSession(config=config)"
   ]
  },
  {
   "cell_type": "code",
   "execution_count": 39,
   "id": "joint-ranking",
   "metadata": {},
   "outputs": [],
   "source": [
    "import os, re, glob\n",
    "import cv2\n",
    "\n",
    "image_size = 227\n",
    "\n",
    "#groups_folder_path = '../Images/After_AAFT/'\n",
    "#groups_folder_path = '../Images/After_image/'\n",
    "groups_folder_path = '../Images/After_resultFigs/'\n",
    "\n",
    "X_s = []\n",
    "\n",
    "y = []"
   ]
  },
  {
   "cell_type": "code",
   "execution_count": 40,
   "id": "solid-delhi",
   "metadata": {},
   "outputs": [
    {
     "name": "stdout",
     "output_type": "stream",
     "text": [
      "(227, 227, 3)\n"
     ]
    }
   ],
   "source": [
    "for label in ['Bi', 'Tri']:\n",
    "\n",
    "    for feature in ['striping_midAng_bw']:\n",
    "\n",
    "        for top, dir, f in os.walk(groups_folder_path + label + \"/\" + feature + \"/\"):\n",
    "            #print(f)\n",
    "            for filename in f:\n",
    "                #print(groups_folder_path + label + \"/\" + feature + \"/\" + filename)\n",
    "                img = cv2.imread(groups_folder_path + label + \"/\" + feature + \"/\" + filename)\n",
    "                img = cv2.resize(img, None, fx=image_size / img.shape[0], fy=image_size / img.shape[1])\n",
    "                \n",
    "                X_s.append(img / 256)\n",
    "\n",
    "                if label == 'Bi':\n",
    "                    y.append(2)\n",
    "                else:\n",
    "                    y.append(3)\n",
    "\n",
    "print(X_s[0].shape)"
   ]
  },
  {
   "cell_type": "code",
   "execution_count": 41,
   "id": "hydraulic-celebrity",
   "metadata": {},
   "outputs": [],
   "source": [
    "X = np.array(X_s)\n",
    "y = np.array(y)"
   ]
  },
  {
   "cell_type": "code",
   "execution_count": 42,
   "id": "voluntary-rendering",
   "metadata": {},
   "outputs": [
    {
     "name": "stdout",
     "output_type": "stream",
     "text": [
      "1200\n",
      "864\n"
     ]
    }
   ],
   "source": [
    "# train, test split\n",
    "from sklearn.model_selection import train_test_split\n",
    "\n",
    "X_train, X_test, y_train, y_test = train_test_split(X, y, test_size=0.2, random_state=42, stratify=y)\n",
    "\n",
    "# validation split\n",
    "\n",
    "X_train, X_validation, y_train, y_validation = train_test_split(X_train, y_train, test_size=0.1, random_state=10, stratify=y_train)\n",
    "print(len(y))\n",
    "print(len(y_train))\n",
    "AlexNet = keras.models.Sequential([\n",
    "        keras.layers.Conv2D(256, (6, 6), activation='relu', input_shape=X_train[0].shape),\n",
    "        keras.layers.MaxPooling2D( (2, 2) ),\n",
    "        keras.layers.BatchNormalization(),\n",
    "\n",
    "\n",
    "        keras.layers.Conv2D(384, (3, 3), padding='same', activation='relu'),\n",
    "        keras.layers.MaxPooling2D( (2, 2) ),\n",
    "        keras.layers.BatchNormalization(),\n",
    "\n",
    "        keras.layers.Conv2D(384, (3, 3), padding='same', activation='relu'),\n",
    "        keras.layers.MaxPooling2D( (2, 2) ),\n",
    "        keras.layers.BatchNormalization(),\n",
    "\n",
    "        keras.layers.Conv2D(256, (3, 3), padding='same', activation='relu'),\n",
    "        keras.layers.MaxPooling2D( (2, 2) ),\n",
    "        keras.layers.BatchNormalization(),\n",
    "\n",
    "        keras.layers.Flatten(),\n",
    "        keras.layers.Dense(1024, activation='relu'),\n",
    "        keras.layers.Dense(1024, activation='relu'),\n",
    "\n",
    "        keras.layers.Dense(len(y_train), activation='softmax')\n",
    "])"
   ]
  },
  {
   "cell_type": "code",
   "execution_count": 43,
   "id": "impressive-fountain",
   "metadata": {},
   "outputs": [
    {
     "name": "stdout",
     "output_type": "stream",
     "text": [
      "Model: \"sequential_3\"\n",
      "_________________________________________________________________\n",
      "Layer (type)                 Output Shape              Param #   \n",
      "=================================================================\n",
      "conv2d_12 (Conv2D)           (None, 222, 222, 256)     27904     \n",
      "_________________________________________________________________\n",
      "max_pooling2d_12 (MaxPooling (None, 111, 111, 256)     0         \n",
      "_________________________________________________________________\n",
      "batch_normalization_12 (Batc (None, 111, 111, 256)     1024      \n",
      "_________________________________________________________________\n",
      "conv2d_13 (Conv2D)           (None, 111, 111, 384)     885120    \n",
      "_________________________________________________________________\n",
      "max_pooling2d_13 (MaxPooling (None, 55, 55, 384)       0         \n",
      "_________________________________________________________________\n",
      "batch_normalization_13 (Batc (None, 55, 55, 384)       1536      \n",
      "_________________________________________________________________\n",
      "conv2d_14 (Conv2D)           (None, 55, 55, 384)       1327488   \n",
      "_________________________________________________________________\n",
      "max_pooling2d_14 (MaxPooling (None, 27, 27, 384)       0         \n",
      "_________________________________________________________________\n",
      "batch_normalization_14 (Batc (None, 27, 27, 384)       1536      \n",
      "_________________________________________________________________\n",
      "conv2d_15 (Conv2D)           (None, 27, 27, 256)       884992    \n",
      "_________________________________________________________________\n",
      "max_pooling2d_15 (MaxPooling (None, 13, 13, 256)       0         \n",
      "_________________________________________________________________\n",
      "batch_normalization_15 (Batc (None, 13, 13, 256)       1024      \n",
      "_________________________________________________________________\n",
      "flatten_3 (Flatten)          (None, 43264)             0         \n",
      "_________________________________________________________________\n",
      "dense_9 (Dense)              (None, 1024)              44303360  \n",
      "_________________________________________________________________\n",
      "dense_10 (Dense)             (None, 1024)              1049600   \n",
      "_________________________________________________________________\n",
      "dense_11 (Dense)             (None, 864)               885600    \n",
      "=================================================================\n",
      "Total params: 49,369,184\n",
      "Trainable params: 49,366,624\n",
      "Non-trainable params: 2,560\n",
      "_________________________________________________________________\n"
     ]
    }
   ],
   "source": [
    "AlexNet.summary()"
   ]
  },
  {
   "cell_type": "code",
   "execution_count": 44,
   "id": "level-provision",
   "metadata": {},
   "outputs": [],
   "source": [
    "AlexNet.compile(loss=keras.losses.sparse_categorical_crossentropy,\n",
    "              optimizer=keras.optimizers.SGD(learning_rate=0.01),\n",
    "              metrics=[keras.metrics.sparse_categorical_accuracy])"
   ]
  },
  {
   "cell_type": "code",
   "execution_count": 45,
   "id": "earlier-closer",
   "metadata": {},
   "outputs": [
    {
     "name": "stdout",
     "output_type": "stream",
     "text": [
      "Epoch 1/10\n",
      "54/54 [==============================] - 8s 138ms/step - loss: 0.5973 - sparse_categorical_accuracy: 0.9165 - val_loss: 5.6871 - val_sparse_categorical_accuracy: 0.5417\n",
      "Epoch 2/10\n",
      "54/54 [==============================] - 7s 135ms/step - loss: 2.8771e-04 - sparse_categorical_accuracy: 1.0000 - val_loss: 4.8266 - val_sparse_categorical_accuracy: 0.5625\n",
      "Epoch 3/10\n",
      "54/54 [==============================] - 7s 137ms/step - loss: 1.4434e-04 - sparse_categorical_accuracy: 1.0000 - val_loss: 3.9445 - val_sparse_categorical_accuracy: 0.8229\n",
      "Epoch 4/10\n",
      "54/54 [==============================] - 7s 137ms/step - loss: 1.4643e-04 - sparse_categorical_accuracy: 1.0000 - val_loss: 2.9278 - val_sparse_categorical_accuracy: 0.9792\n",
      "Epoch 5/10\n",
      "54/54 [==============================] - 7s 136ms/step - loss: 8.9676e-05 - sparse_categorical_accuracy: 1.0000 - val_loss: 1.7441 - val_sparse_categorical_accuracy: 0.9792\n",
      "Epoch 6/10\n",
      "54/54 [==============================] - 7s 136ms/step - loss: 8.0157e-05 - sparse_categorical_accuracy: 1.0000 - val_loss: 0.6888 - val_sparse_categorical_accuracy: 0.9896\n",
      "Epoch 7/10\n",
      "54/54 [==============================] - 7s 136ms/step - loss: 5.1739e-05 - sparse_categorical_accuracy: 1.0000 - val_loss: 0.1772 - val_sparse_categorical_accuracy: 1.0000\n",
      "Epoch 8/10\n",
      "54/54 [==============================] - 7s 136ms/step - loss: 5.9040e-05 - sparse_categorical_accuracy: 1.0000 - val_loss: 0.0371 - val_sparse_categorical_accuracy: 1.0000\n",
      "Epoch 9/10\n",
      "54/54 [==============================] - 7s 136ms/step - loss: 4.7605e-05 - sparse_categorical_accuracy: 1.0000 - val_loss: 0.0071 - val_sparse_categorical_accuracy: 1.0000\n",
      "Epoch 10/10\n",
      "54/54 [==============================] - 7s 136ms/step - loss: 3.5867e-05 - sparse_categorical_accuracy: 1.0000 - val_loss: 0.0015 - val_sparse_categorical_accuracy: 1.0000\n"
     ]
    }
   ],
   "source": [
    "AlexNet_history = AlexNet.fit(X_train, y_train, epochs=10, batch_size=16,\n",
    "                    validation_data=(X_validation, y_validation))"
   ]
  },
  {
   "cell_type": "code",
   "execution_count": 46,
   "id": "cardiovascular-geneva",
   "metadata": {},
   "outputs": [
    {
     "data": {
      "image/png": "[encoded data removed]",
      "text/plain": [
       "<Figure size 432x288 with 1 Axes>"
      ]
     },
     "metadata": {
      "needs_background": "light"
     },
     "output_type": "display_data"
    }
   ],
   "source": [
    "import matplotlib.pyplot as plt\n",
    "\n",
    "#print(AlexNet_history.history)\n",
    "\n",
    "plt.plot(AlexNet_history.history['val_sparse_categorical_accuracy'])\n",
    "plt.legend(['val_acc'], loc= 'upper left')\n",
    "plt.show()"
   ]
  },
  {
   "cell_type": "code",
   "execution_count": 47,
   "id": "unlike-calendar",
   "metadata": {},
   "outputs": [
    {
     "name": "stdout",
     "output_type": "stream",
     "text": [
      "54/54 [==============================] - 2s 41ms/step - loss: 0.0019 - sparse_categorical_accuracy: 1.0000\n"
     ]
    }
   ],
   "source": [
    "loss_and_metric = AlexNet.evaluate(X_train, y_train, batch_size = 16, verbose=1)"
   ]
  },
  {
   "cell_type": "code",
   "execution_count": 48,
   "id": "dressed-consequence",
   "metadata": {},
   "outputs": [
    {
     "name": "stdout",
     "output_type": "stream",
     "text": [
      "Train, loss and metric: [0.0018859440460801125, 1.0]\n"
     ]
    }
   ],
   "source": [
    "print(f\"Train, loss and metric: {loss_and_metric}\")"
   ]
  },
  {
   "cell_type": "code",
   "execution_count": 49,
   "id": "alert-pillow",
   "metadata": {},
   "outputs": [
    {
     "name": "stdout",
     "output_type": "stream",
     "text": [
      "15/15 [==============================] - 1s 41ms/step - loss: 0.0032 - sparse_categorical_accuracy: 1.0000\n"
     ]
    }
   ],
   "source": [
    "loss_and_metric = AlexNet.evaluate(X_test, y_test, batch_size = 16, verbose=1)"
   ]
  },
  {
   "cell_type": "code",
   "execution_count": 50,
   "id": "acoustic-catalog",
   "metadata": {},
   "outputs": [
    {
     "name": "stdout",
     "output_type": "stream",
     "text": [
      "Test, loss and metric: [0.0032258464489132166, 1.0]\n"
     ]
    }
   ],
   "source": [
    "print(f\"Test, loss and metric: {loss_and_metric}\")"
   ]
  }
 ],
 "metadata": {
  "kernelspec": {
   "display_name": "Python 3",
   "language": "python",
   "name": "python3"
  },
  "language_info": {
   "codemirror_mode": {
    "name": "ipython",
    "version": 3
   },
   "file_extension": ".py",
   "mimetype": "text/x-python",
   "name": "python",
   "nbconvert_exporter": "python",
   "pygments_lexer": "ipython3",
   "version": "3.7.9"
  }
 },
 "nbformat": 4,
 "nbformat_minor": 5
}
