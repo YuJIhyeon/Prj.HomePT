{
 "cells": [
  {
   "cell_type": "code",
   "execution_count": 1,
   "id": "compressed-beginning",
   "metadata": {},
   "outputs": [],
   "source": [
    "import tensorflow as tf\n",
    "from tensorflow import keras\n",
    "\n",
    "import numpy as np"
   ]
  },
  {
   "cell_type": "code",
   "execution_count": 2,
   "id": "homeless-metadata",
   "metadata": {},
   "outputs": [],
   "source": [
    "config = tf.compat.v1.ConfigProto()\n",
    "config.gpu_options.per_process_gpu_memory_fraction = 0.4\n",
    "session = tf.compat.v1.InteractiveSession(config=config)"
   ]
  },
  {
   "cell_type": "code",
   "execution_count": 3,
   "id": "voluntary-rendering",
   "metadata": {},
   "outputs": [],
   "source": [
    "def AN(X, y, cnt):\n",
    "    # train, test split\n",
    "    from sklearn.model_selection import train_test_split\n",
    "\n",
    "    X_train, X_test, y_train, y_test = train_test_split(X, y, test_size=0.2, random_state=42, stratify=y)\n",
    "\n",
    "    # validation split\n",
    "\n",
    "    X_train, X_validation, y_train, y_validation = train_test_split(X_train, y_train, test_size=0.1, random_state=10, stratify=y_train)\n",
    "    #print(len(y))\n",
    "    #print(len(y_train))\n",
    "    AlexNet = keras.models.Sequential([\n",
    "            keras.layers.Conv2D(256, (6, 6), activation='relu', input_shape=X_train[0].shape),\n",
    "            keras.layers.MaxPooling2D( (2, 2) ),\n",
    "            keras.layers.BatchNormalization(),\n",
    "\n",
    "\n",
    "            keras.layers.Conv2D(384, (3, 3), padding='same', activation='relu'),\n",
    "            keras.layers.MaxPooling2D( (2, 2) ),\n",
    "            keras.layers.BatchNormalization(),\n",
    "\n",
    "            keras.layers.Conv2D(384, (3, 3), padding='same', activation='relu'),\n",
    "            keras.layers.MaxPooling2D( (2, 2) ),\n",
    "            keras.layers.BatchNormalization(),\n",
    "\n",
    "            keras.layers.Conv2D(256, (3, 3), padding='same', activation='relu'),\n",
    "            keras.layers.MaxPooling2D( (2, 2) ),\n",
    "            keras.layers.BatchNormalization(),\n",
    "\n",
    "            keras.layers.Flatten(),\n",
    "            keras.layers.Dense(1024, activation='relu'),\n",
    "            keras.layers.Dense(1024, activation='relu'),\n",
    "\n",
    "            keras.layers.Dense(len(y_train), activation='softmax')\n",
    "    ])\n",
    "    #AlexNet.summary()\n",
    "    AlexNet.compile(loss=keras.losses.sparse_categorical_crossentropy,\n",
    "              optimizer=keras.optimizers.SGD(learning_rate=0.01), \n",
    "            metrics=[keras.metrics.sparse_categorical_accuracy])\n",
    "    AlexNet_history = AlexNet.fit(X_train, y_train, epochs=10, batch_size=16,\n",
    "                    validation_data=(X_validation, y_validation))\n",
    "    '''\n",
    "    import matplotlib.pyplot as plt\n",
    "\n",
    "    #print(AlexNet_history.history)\n",
    "\n",
    "    plt.plot(AlexNet_history.history['val_sparse_categorical_accuracy'])\n",
    "    plt.legend(['val_acc'], loc= 'upper left')\n",
    "    plt.show()\n",
    "    '''\n",
    "    evaluation = []\n",
    "    evaluation.append(AlexNet.evaluate(X_train, y_train, batch_size=16))\n",
    "    #print(f\"cnt = {cnt}, {evaluation}\")\n",
    "    evaluation.append(AlexNet.evaluate(X_test, y_test, batch_size=16))\n",
    "    #print(f\"cnt = {cnt}, {evaluation}\")\n",
    "    return evaluation"
   ]
  },
  {
   "cell_type": "code",
   "execution_count": null,
   "id": "activated-democracy",
   "metadata": {
    "scrolled": false
   },
   "outputs": [],
   "source": [
    "import os, re, glob\n",
    "import cv2\n",
    "\n",
    "image_size = 227\n",
    "\n",
    "groups_folder_path = '../Data/resultVecsFigs/AAFT_3/'\n",
    "\n",
    "X_s = []\n",
    "\n",
    "y = []\n",
    "# auto_corr       hadamard        midAng\n",
    "for label in ['Bi', 'Tri']:\n",
    "\n",
    "    for feature in ['midAng']:\n",
    "\n",
    "        for top, dir, f in os.walk(groups_folder_path + label + \"/\" + feature + \"/\"):\n",
    "            #print(f)\n",
    "            for filename in f:\n",
    "                #print(groups_folder_path + label + \"/\" + feature + \"/\" + filename)\n",
    "                img = cv2.imread(groups_folder_path + label + \"/\" + feature + \"/\" + filename)\n",
    "                img = cv2.resize(img, None, fx=image_size / img.shape[0], fy=image_size / img.shape[1])\n",
    "                \n",
    "                X_s.append(img / 256)\n",
    "\n",
    "                if label == 'Bi':\n",
    "                    y.append(2)\n",
    "                else:\n",
    "                    y.append(3)\n",
    "\n",
    "print(X_s[0].shape)\n",
    "#print(X_s)\n",
    "print(len(y))\n",
    "X = np.array(X_s)\n",
    "y = np.array(y)\n",
    "\n",
    "an = []\n",
    "\n",
    "for i in range(3):\n",
    "    an.append(AN(X, y, i))"
   ]
  },
  {
   "cell_type": "code",
   "execution_count": null,
   "id": "logical-graduation",
   "metadata": {},
   "outputs": [],
   "source": [
    "for data in an:\n",
    "    for d in data:\n",
    "        for j in d:\n",
    "            print(j)"
   ]
  }
 ],
 "metadata": {
  "kernelspec": {
   "display_name": "Python 3",
   "language": "python",
   "name": "python3"
  },
  "language_info": {
   "codemirror_mode": {
    "name": "ipython",
    "version": 3
   },
   "file_extension": ".py",
   "mimetype": "text/x-python",
   "name": "python",
   "nbconvert_exporter": "python",
   "pygments_lexer": "ipython3",
   "version": "3.7.9"
  }
 },
 "nbformat": 4,
 "nbformat_minor": 5
}
