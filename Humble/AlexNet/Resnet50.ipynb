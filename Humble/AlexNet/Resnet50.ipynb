{
 "cells": [
  {
   "cell_type": "code",
   "execution_count": 1,
   "id": "closed-afghanistan",
   "metadata": {},
   "outputs": [],
   "source": [
    "from keras.applications import ResNet50\n",
    "import cv2\n",
    "import numpy as np\n",
    "import os\n",
    "import tensorflow as tf\n",
    "from tensorflow import keras\n",
    "from sklearn.model_selection import train_test_split\n",
    "config = tf.compat.v1.ConfigProto()\n",
    "config.gpu_options.allow_growth = True\n",
    "session = tf.compat.v1.InteractiveSession(config=config)\n",
    "\n",
    "def Resnet50_model(X, y):\n",
    "    X_train, X_test, y_train, y_test = train_test_split(X, y, test_size=0.2, random_state=42, stratify=y)\n",
    "\n",
    "    # validation split\n",
    "\n",
    "    X_train, X_validation, y_train, y_validation = train_test_split(X_train, y_train, test_size=0.1, random_state=10,\n",
    "                                                                    stratify=y_train)\n",
    "    print(len(X_train))\n",
    "\n",
    "\n",
    "    model = ResNet50(include_top=True, weights=None, input_shape=(227,227,3), pooling=max, classes=4)\n",
    "    model.compile(loss=keras.losses.sparse_categorical_crossentropy, metrics=['accuracy'],\n",
    "                  optimizer=keras.optimizers.SGD(learning_rate=0.01))\n",
    "    modelhistory = model.fit(X_train, y_train, batch_size=16, epochs=10, validation_data=(X_validation, y_validation))\n",
    "    evaluation = []\n",
    "    evaluation.append(model.evaluate(X_train, y_train, batch_size=16))\n",
    "    evaluation.append(model.evaluate(X_test, y_test, batch_size=16))\n",
    "    \n",
    "    return evaluation"
   ]
  },
  {
   "cell_type": "code",
   "execution_count": null,
   "id": "fluid-hudson",
   "metadata": {},
   "outputs": [
    {
     "name": "stdout",
     "output_type": "stream",
     "text": [
      "(227, 227, 3)\n",
      "1200\n",
      "864\n",
      "Epoch 1/10\n",
      "54/54 [==============================] - 20s 144ms/step - loss: 5.3163 - accuracy: 0.2745 - val_loss: 1.6254 - val_accuracy: 0.2500\n",
      "Epoch 2/10\n",
      "54/54 [==============================] - 7s 129ms/step - loss: 1.5429 - accuracy: 0.5828 - val_loss: 2.9531 - val_accuracy: 0.2500\n",
      "Epoch 3/10\n",
      "54/54 [==============================] - 7s 129ms/step - loss: 0.9056 - accuracy: 0.7418 - val_loss: 4.3125 - val_accuracy: 0.2500\n",
      "Epoch 4/10\n",
      "54/54 [==============================] - 7s 129ms/step - loss: 0.8150 - accuracy: 0.7585 - val_loss: 6.1805 - val_accuracy: 0.2500\n",
      "Epoch 5/10\n",
      "54/54 [==============================] - ETA: 0s - loss: 0.4211 - accuracy: 0.8463"
     ]
    }
   ],
   "source": [
    "image_size = 227\n",
    "\n",
    "groups_folder_path = '../Data/AAFT_5/'\n",
    "\n",
    "X_s = []\n",
    "\n",
    "y = []\n",
    "# auto_corr       hadamard        midAng     striping_color      striping_midAng_color\n",
    "for label in ['Bi', 'Tri', 'Hammer', 'Rvcurl']:\n",
    "\n",
    "    for feature in ['striping_color']:\n",
    "\n",
    "        for top, dir, f in os.walk(groups_folder_path + label + \"/\" + feature + \"/\"):\n",
    "            #print(f)\n",
    "            for filename in f:\n",
    "                #print(groups_folder_path + label + \"/\" + feature + \"/\" + filename)\n",
    "                img = cv2.imread(groups_folder_path + label + \"/\" + feature + \"/\" + filename)\n",
    "                img = cv2.resize(img, None, fx=image_size / img.shape[0], fy=image_size / img.shape[1])\n",
    "                \n",
    "                X_s.append(img / 256)\n",
    "\n",
    "                if label == 'Bi':\n",
    "                    y.append(0)\n",
    "                elif label == 'Tri':\n",
    "                    y.append(1)\n",
    "                elif label == 'Hammer':\n",
    "                    y.append(2)\n",
    "                else:\n",
    "                    y.append(3)\n",
    "\n",
    "print(X_s[0].shape)\n",
    "# print(X_s)\n",
    "print(len(y))\n",
    "X = np.array(X_s)\n",
    "y = np.array(y)\n",
    "\n",
    "res = []\n",
    "for i in range(2):\n",
    "    res.append(Resnet50_model(X, y))"
   ]
  },
  {
   "cell_type": "code",
   "execution_count": null,
   "id": "consistent-module",
   "metadata": {},
   "outputs": [],
   "source": [
    "for data in res:\n",
    "    data[0][0]"
   ]
  },
  {
   "cell_type": "code",
   "execution_count": null,
   "id": "departmental-orange",
   "metadata": {},
   "outputs": [],
   "source": [
    "for data in res:\n",
    "    data[1][1]"
   ]
  }
 ],
 "metadata": {
  "kernelspec": {
   "display_name": "Python 3",
   "language": "python",
   "name": "python3"
  },
  "language_info": {
   "codemirror_mode": {
    "name": "ipython",
    "version": 3
   },
   "file_extension": ".py",
   "mimetype": "text/x-python",
   "name": "python",
   "nbconvert_exporter": "python",
   "pygments_lexer": "ipython3",
   "version": "3.7.9"
  }
 },
 "nbformat": 4,
 "nbformat_minor": 5
}
