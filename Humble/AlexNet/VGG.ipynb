{
 "cells": [
  {
   "cell_type": "code",
   "execution_count": 1,
   "id": "failing-trader",
   "metadata": {},
   "outputs": [
    {
     "name": "stdout",
     "output_type": "stream",
     "text": [
      "(227, 227, 3)\n",
      "360\n",
      "259\n",
      "Epoch 1/10\n",
      "17/17 [==============================] - 25s 852ms/step - loss: 0.6933 - accuracy: 0.4804 - val_loss: 0.6924 - val_accuracy: 0.4828\n",
      "Epoch 2/10\n",
      "17/17 [==============================] - 3s 154ms/step - loss: 0.6918 - accuracy: 0.5368 - val_loss: 0.6901 - val_accuracy: 0.6552\n",
      "Epoch 3/10\n",
      "17/17 [==============================] - 3s 153ms/step - loss: 0.6898 - accuracy: 0.6614 - val_loss: 0.6876 - val_accuracy: 0.5172\n",
      "Epoch 4/10\n",
      "17/17 [==============================] - 3s 153ms/step - loss: 0.6856 - accuracy: 0.6569 - val_loss: 0.6800 - val_accuracy: 0.6552\n",
      "Epoch 5/10\n",
      "17/17 [==============================] - 3s 156ms/step - loss: 0.6789 - accuracy: 0.8592 - val_loss: 0.6779 - val_accuracy: 1.0000\n",
      "Epoch 6/10\n",
      "17/17 [==============================] - 3s 154ms/step - loss: 0.6678 - accuracy: 0.9923 - val_loss: 0.6518 - val_accuracy: 1.0000\n",
      "Epoch 7/10\n",
      "17/17 [==============================] - 3s 154ms/step - loss: 0.6508 - accuracy: 0.9945 - val_loss: 0.6242 - val_accuracy: 1.0000\n",
      "Epoch 8/10\n",
      "17/17 [==============================] - 3s 155ms/step - loss: 0.6157 - accuracy: 0.9835 - val_loss: 0.5763 - val_accuracy: 1.0000\n",
      "Epoch 9/10\n",
      "17/17 [==============================] - 3s 155ms/step - loss: 0.5434 - accuracy: 0.9892 - val_loss: 0.3848 - val_accuracy: 1.0000\n",
      "Epoch 10/10\n",
      "17/17 [==============================] - 3s 153ms/step - loss: 0.2786 - accuracy: 0.9958 - val_loss: 0.0121 - val_accuracy: 1.0000\n"
     ]
    },
    {
     "data": {
      "text/plain": [
       "<tensorflow.python.keras.callbacks.History at 0x1fec8dc22c8>"
      ]
     },
     "execution_count": 1,
     "metadata": {},
     "output_type": "execute_result"
    }
   ],
   "source": [
    "import cv2\n",
    "import numpy as np\n",
    "import os\n",
    "import tensorflow as tf\n",
    "from tensorflow import keras\n",
    "from sklearn.model_selection import train_test_split\n",
    "\n",
    "config = tf.compat.v1.ConfigProto()\n",
    "config.gpu_options.allow_growth = True\n",
    "session = tf.compat.v1.InteractiveSession(config=config)\n",
    "\n",
    "image_size = 227\n",
    "\n",
    "groups_folder_path = '../Data/AAFT_3/'\n",
    "\n",
    "X_s = []\n",
    "\n",
    "y = []\n",
    "# auto_corr       hadamard        midAng\n",
    "for label in ['Bi', 'Tri']:\n",
    "\n",
    "    for feature in ['striping_color']:\n",
    "\n",
    "        for top, dir, f in os.walk(groups_folder_path + label + \"/\" + feature + \"/\"):\n",
    "            # print(f)\n",
    "            for filename in f:\n",
    "                # print(groups_folder_path + label + \"/\" + feature + \"/\" + filename)\n",
    "                img = cv2.imread(groups_folder_path + label + \"/\" + feature + \"/\" + filename)\n",
    "                img = cv2.resize(img, None, fx=image_size / img.shape[0], fy=image_size / img.shape[1])\n",
    "\n",
    "                X_s.append(img / 256)\n",
    "\n",
    "                if label == 'Bi':\n",
    "                    y.append(0)\n",
    "                else:\n",
    "                    y.append(1)\n",
    "\n",
    "print(X_s[0].shape)\n",
    "# print(X_s)\n",
    "print(len(y))\n",
    "X = np.array(X_s)\n",
    "y = np.array(y)\n",
    "\n",
    "\n",
    "X_train, X_test, y_train, y_test = train_test_split(X, y, test_size=0.2, random_state=42, stratify=y)\n",
    "\n",
    "# validation split\n",
    "\n",
    "X_train, X_validation, y_train, y_validation = train_test_split(X_train, y_train, test_size=0.1, random_state=10,\n",
    "                                                                stratify=y_train)\n",
    "print(len(X_train))\n",
    "\n",
    "\n",
    "model = keras.applications.VGG19(include_top=True, weights=None, input_shape=(227,227,3), pooling=max, classes=2)\n",
    "model.compile(loss=keras.losses.sparse_categorical_crossentropy, metrics=['accuracy'],\n",
    "              optimizer=keras.optimizers.SGD(learning_rate=0.01))\n",
    "model.fit(X_train, y_train, batch_size=16, epochs=10, validation_data=(X_validation, y_validation))"
   ]
  }
 ],
 "metadata": {
  "kernelspec": {
   "display_name": "Python 3",
   "language": "python",
   "name": "python3"
  },
  "language_info": {
   "codemirror_mode": {
    "name": "ipython",
    "version": 3
   },
   "file_extension": ".py",
   "mimetype": "text/x-python",
   "name": "python",
   "nbconvert_exporter": "python",
   "pygments_lexer": "ipython3",
   "version": "3.7.9"
  }
 },
 "nbformat": 4,
 "nbformat_minor": 5
}
