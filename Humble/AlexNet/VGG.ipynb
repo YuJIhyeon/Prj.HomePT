{
 "cells": [
  {
   "cell_type": "code",
   "execution_count": 1,
   "id": "individual-camel",
   "metadata": {},
   "outputs": [],
   "source": [
    "import tensorflow as tf\n",
    "from tensorflow import keras\n",
    "import numpy as np\n",
    "import matplotlib.pyplot as plt\n",
    "\n",
    "from tensorflow.compat.v1 import ConfigProto\n",
    "from tensorflow.compat.v1 import InteractiveSession\n",
    "\n",
    "import os\n",
    "import cv2"
   ]
  },
  {
   "cell_type": "code",
   "execution_count": 2,
   "id": "overhead-seeking",
   "metadata": {},
   "outputs": [],
   "source": [
    "config = ConfigProto()\n",
    "config.gpu_options.allow_growth = 0.4\n",
    "session = InteractiveSession(config=config)"
   ]
  },
  {
   "cell_type": "code",
   "execution_count": 4,
   "id": "bulgarian-decimal",
   "metadata": {},
   "outputs": [
    {
     "name": "stdout",
     "output_type": "stream",
     "text": [
      "(227, 227, 3)\n"
     ]
    }
   ],
   "source": [
    "image_size = 227\n",
    "\n",
    "groups_folder_path = '../Data/AAFT_20/'\n",
    "\n",
    "X_r = []\n",
    "y = []\n",
    "\n",
    "for label in ['Bi', 'Tri']:\n",
    "\n",
    "    for feature in ['striping_bw']:\n",
    "\n",
    "        for top, dir, f in os.walk(groups_folder_path + label + \"/\" + feature + \"/\"):\n",
    "            for filename in f:\n",
    "                img = cv2.imread(groups_folder_path + label + \"/\" + feature + \"/\" + filename)\n",
    "                img = cv2.resize(img, None, fx=image_size / img.shape[0], fy=image_size / img.shape[1])\n",
    "\n",
    "                X_r.append(img / 256)\n",
    "\n",
    "                if label == 'Bi':\n",
    "                    y.append(0)\n",
    "                else:\n",
    "                    y.append(1)\n",
    "\n",
    "print(X_r[0].shape)"
   ]
  },
  {
   "cell_type": "code",
   "execution_count": 5,
   "id": "revised-carter",
   "metadata": {},
   "outputs": [],
   "source": [
    "X = np.array(X_r)\n",
    "y = np.array(y)"
   ]
  },
  {
   "cell_type": "code",
   "execution_count": 6,
   "id": "transparent-struggle",
   "metadata": {},
   "outputs": [],
   "source": [
    "from sklearn.model_selection import train_test_split\n",
    "\n",
    "X_train, X_test, y_train, y_test = train_test_split(X, y, test_size=0.2, random_state=42, stratify=y)\n",
    "\n",
    "# validation split\n",
    "\n",
    "X_train, X_validation, y_train, y_validation = train_test_split(X_train, y_train, test_size=0.1, random_state=10, stratify=y_train)"
   ]
  },
  {
   "cell_type": "code",
   "execution_count": 7,
   "id": "tribal-telephone",
   "metadata": {},
   "outputs": [],
   "source": [
    "AlexNet = keras.models.Sequential([\n",
    "    keras.layers.Conv2D(filters=64, kernel_size=(3,3), strides=1, padding=\"same\", activation=\"relu\", input_shape=(227, 227, 3)),\n",
    "    keras.layers.Conv2D(filters=64, kernel_size=(3,3), strides=1, padding=\"same\", activation=\"relu\"),\n",
    "    keras.layers.MaxPooling2D(pool_size=(2, 2), strides= 2),\n",
    "\n",
    "    keras.layers.Conv2D(filters=128, kernel_size=(3,3), strides=1, padding=\"same\", activation=\"relu\"),\n",
    "    keras.layers.Conv2D(filters=128, kernel_size=(3,3), strides=1, padding=\"same\", activation=\"relu\"),\n",
    "    keras.layers.MaxPooling2D(pool_size=(2, 2), strides=2),\n",
    "\n",
    "    keras.layers.Conv2D(filters=256, kernel_size=(3,3), strides=1, padding=\"same\", activation=\"relu\"),\n",
    "    keras.layers.Conv2D(filters=256, kernel_size=(3,3), strides=1, padding=\"same\", activation=\"relu\"),\n",
    "    keras.layers.Conv2D(filters=256, kernel_size=(3,3), strides=1, padding=\"same\", activation=\"relu\"),\n",
    "    keras.layers.MaxPooling2D(pool_size=(2, 2), strides=2),\n",
    "\n",
    "    keras.layers.Conv2D(filters=512, kernel_size=(3,3), strides=1, padding=\"same\", activation=\"relu\"),\n",
    "    keras.layers.Conv2D(filters=512, kernel_size=(3,3), strides=1, padding=\"same\", activation=\"relu\"),\n",
    "    keras.layers.Conv2D(filters=512, kernel_size=(3,3), strides=1, padding=\"same\", activation=\"relu\"),\n",
    "    keras.layers.MaxPooling2D(pool_size=(2, 2), strides=2),\n",
    "\n",
    "    keras.layers.Conv2D(filters=512, kernel_size=(3,3), strides=1, padding=\"same\", activation=\"relu\"),\n",
    "    keras.layers.Conv2D(filters=512, kernel_size=(3,3), strides=1, padding=\"same\", activation=\"relu\"),\n",
    "    keras.layers.Conv2D(filters=512, kernel_size=(3,3), strides=1, padding=\"same\", activation=\"relu\"),\n",
    "    keras.layers.MaxPooling2D(pool_size=(2, 2), strides=2),\n",
    "\n",
    "    keras.layers.Flatten(),\n",
    "\n",
    "    keras.layers.Dense(4096, activation='relu'),\n",
    "    keras.layers.Dense(4096, activation='relu'),\n",
    "    keras.layers.Dense(2, activation='softmax')\n",
    "])"
   ]
  },
  {
   "cell_type": "code",
   "execution_count": 8,
   "id": "biological-principal",
   "metadata": {},
   "outputs": [
    {
     "name": "stdout",
     "output_type": "stream",
     "text": [
      "Model: \"sequential\"\n",
      "_________________________________________________________________\n",
      "Layer (type)                 Output Shape              Param #   \n",
      "=================================================================\n",
      "conv2d (Conv2D)              (None, 227, 227, 64)      1792      \n",
      "_________________________________________________________________\n",
      "conv2d_1 (Conv2D)            (None, 227, 227, 64)      36928     \n",
      "_________________________________________________________________\n",
      "max_pooling2d (MaxPooling2D) (None, 113, 113, 64)      0         \n",
      "_________________________________________________________________\n",
      "conv2d_2 (Conv2D)            (None, 113, 113, 128)     73856     \n",
      "_________________________________________________________________\n",
      "conv2d_3 (Conv2D)            (None, 113, 113, 128)     147584    \n",
      "_________________________________________________________________\n",
      "max_pooling2d_1 (MaxPooling2 (None, 56, 56, 128)       0         \n",
      "_________________________________________________________________\n",
      "conv2d_4 (Conv2D)            (None, 56, 56, 256)       295168    \n",
      "_________________________________________________________________\n",
      "conv2d_5 (Conv2D)            (None, 56, 56, 256)       590080    \n",
      "_________________________________________________________________\n",
      "conv2d_6 (Conv2D)            (None, 56, 56, 256)       590080    \n",
      "_________________________________________________________________\n",
      "max_pooling2d_2 (MaxPooling2 (None, 28, 28, 256)       0         \n",
      "_________________________________________________________________\n",
      "conv2d_7 (Conv2D)            (None, 28, 28, 512)       1180160   \n",
      "_________________________________________________________________\n",
      "conv2d_8 (Conv2D)            (None, 28, 28, 512)       2359808   \n",
      "_________________________________________________________________\n",
      "conv2d_9 (Conv2D)            (None, 28, 28, 512)       2359808   \n",
      "_________________________________________________________________\n",
      "max_pooling2d_3 (MaxPooling2 (None, 14, 14, 512)       0         \n",
      "_________________________________________________________________\n",
      "conv2d_10 (Conv2D)           (None, 14, 14, 512)       2359808   \n",
      "_________________________________________________________________\n",
      "conv2d_11 (Conv2D)           (None, 14, 14, 512)       2359808   \n",
      "_________________________________________________________________\n",
      "conv2d_12 (Conv2D)           (None, 14, 14, 512)       2359808   \n",
      "_________________________________________________________________\n",
      "max_pooling2d_4 (MaxPooling2 (None, 7, 7, 512)         0         \n",
      "_________________________________________________________________\n",
      "flatten (Flatten)            (None, 25088)             0         \n",
      "_________________________________________________________________\n",
      "dense (Dense)                (None, 4096)              102764544 \n",
      "_________________________________________________________________\n",
      "dense_1 (Dense)              (None, 4096)              16781312  \n",
      "_________________________________________________________________\n",
      "dense_2 (Dense)              (None, 2)                 8194      \n",
      "=================================================================\n",
      "Total params: 134,268,738\n",
      "Trainable params: 134,268,738\n",
      "Non-trainable params: 0\n",
      "_________________________________________________________________\n"
     ]
    }
   ],
   "source": [
    "AlexNet.summary()"
   ]
  },
  {
   "cell_type": "code",
   "execution_count": 9,
   "id": "aware-receptor",
   "metadata": {},
   "outputs": [],
   "source": [
    "AlexNet.compile(loss='sparse_categorical_crossentropy',\n",
    "              optimizer='adam',\n",
    "              metrics=['accuracy'])"
   ]
  },
  {
   "cell_type": "code",
   "execution_count": 10,
   "id": "touched-civilian",
   "metadata": {},
   "outputs": [
    {
     "name": "stdout",
     "output_type": "stream",
     "text": [
      "Train on 1728 samples, validate on 192 samples\n",
      "Epoch 1/10\n",
      "1728/1728 [==============================] - 22s 13ms/sample - loss: 0.7306 - accuracy: 0.4988 - val_loss: 0.6936 - val_accuracy: 0.5000\n",
      "Epoch 2/10\n",
      "1728/1728 [==============================] - 18s 10ms/sample - loss: 0.6937 - accuracy: 0.5000 - val_loss: 0.6931 - val_accuracy: 0.5000\n",
      "Epoch 3/10\n",
      "1728/1728 [==============================] - 18s 10ms/sample - loss: 0.6933 - accuracy: 0.5000 - val_loss: 0.6932 - val_accuracy: 0.5000\n",
      "Epoch 4/10\n",
      "1728/1728 [==============================] - 18s 10ms/sample - loss: 0.6933 - accuracy: 0.4815 - val_loss: 0.6931 - val_accuracy: 0.5000\n",
      "Epoch 5/10\n",
      "1728/1728 [==============================] - 18s 10ms/sample - loss: 0.6939 - accuracy: 0.4884 - val_loss: 0.6932 - val_accuracy: 0.5000\n",
      "Epoch 6/10\n",
      "1728/1728 [==============================] - 18s 10ms/sample - loss: 0.6935 - accuracy: 0.4942 - val_loss: 0.6931 - val_accuracy: 0.5000\n",
      "Epoch 7/10\n",
      "1728/1728 [==============================] - 17s 10ms/sample - loss: 0.6934 - accuracy: 0.4826 - val_loss: 0.6932 - val_accuracy: 0.5000\n",
      "Epoch 8/10\n",
      "1728/1728 [==============================] - 17s 10ms/sample - loss: 0.6932 - accuracy: 0.4896 - val_loss: 0.6932 - val_accuracy: 0.5000\n",
      "Epoch 9/10\n",
      "1728/1728 [==============================] - 18s 10ms/sample - loss: 0.6932 - accuracy: 0.4896 - val_loss: 0.6932 - val_accuracy: 0.5000\n",
      "Epoch 10/10\n",
      "1728/1728 [==============================] - 18s 10ms/sample - loss: 0.6935 - accuracy: 0.5000 - val_loss: 0.6932 - val_accuracy: 0.5000\n"
     ]
    }
   ],
   "source": [
    "AlexNet_history = AlexNet.fit(X_train, y_train, epochs=10, batch_size=16,\n",
    "                    validation_data=(X_validation, y_validation))"
   ]
  },
  {
   "cell_type": "code",
   "execution_count": null,
   "id": "electronic-horizon",
   "metadata": {},
   "outputs": [],
   "source": [
    "evaluation = AlexNet.evaluate(X_train, y_train, batch_size=16)"
   ]
  },
  {
   "cell_type": "code",
   "execution_count": null,
   "id": "apart-outline",
   "metadata": {},
   "outputs": [],
   "source": [
    "evaluation = AlexNet.evaluate(X_train, y_train, batch_size=16)"
   ]
  }
 ],
 "metadata": {
  "kernelspec": {
   "display_name": "Python 3",
   "language": "python",
   "name": "python3"
  },
  "language_info": {
   "codemirror_mode": {
    "name": "ipython",
    "version": 3
   },
   "file_extension": ".py",
   "mimetype": "text/x-python",
   "name": "python",
   "nbconvert_exporter": "python",
   "pygments_lexer": "ipython3",
   "version": "3.7.9"
  }
 },
 "nbformat": 4,
 "nbformat_minor": 5
}
