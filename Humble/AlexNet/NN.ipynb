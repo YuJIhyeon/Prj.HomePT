{
 "cells": [
  {
   "cell_type": "code",
   "execution_count": 1,
   "id": "incorporate-workshop",
   "metadata": {},
   "outputs": [],
   "source": [
    "import numpy as np\n",
    "import tensorflow as tf\n",
    "from tensorflow import keras\n",
    "\n",
    "import os"
   ]
  },
  {
   "cell_type": "code",
   "execution_count": 2,
   "id": "talented-messaging",
   "metadata": {},
   "outputs": [],
   "source": [
    "config = tf.compat.v1.ConfigProto()\n",
    "config.gpu_options.per_process_gpu_memory_fraction = 0.4\n",
    "session = tf.compat.v1.InteractiveSession(config=config)"
   ]
  },
  {
   "cell_type": "code",
   "execution_count": 137,
   "id": "elder-continuity",
   "metadata": {},
   "outputs": [],
   "source": [
    "base_path = '../Data/resultVecs/resultVecs_5/'\n",
    "\n",
    "X_i = []\n",
    "y = []\n",
    "\n",
    "for label in ['Bi', 'Tri']:\n",
    "    for feature in ['striping_midAng']:\n",
    "        for top, dir, f in os.walk(base_path + label + '/' + feature + '/'):\n",
    "            for filename in f:\n",
    "                data = open(os.path.join(base_path + label + '/' + feature + '/', filename), 'r')\n",
    "                data = data.read()\n",
    "                temp_data = []\n",
    "                for d in data.split():\n",
    "                    temp_data.append(float(d))\n",
    "                X_i.append(temp_data.copy())\n",
    "\n",
    "                if label == 'Bi':\n",
    "                    y.append(0)\n",
    "                else:\n",
    "                    y.append(1)"
   ]
  },
  {
   "cell_type": "code",
   "execution_count": 138,
   "id": "unknown-receipt",
   "metadata": {
    "scrolled": true
   },
   "outputs": [
    {
     "name": "stdout",
     "output_type": "stream",
     "text": [
      "144\n"
     ]
    }
   ],
   "source": [
    "print(len(X_i[0]))\n",
    "#print(y)"
   ]
  },
  {
   "cell_type": "code",
   "execution_count": 139,
   "id": "floral-bowling",
   "metadata": {},
   "outputs": [],
   "source": [
    "X = np.array(X_i)\n",
    "y = np.array(y)"
   ]
  },
  {
   "cell_type": "code",
   "execution_count": 140,
   "id": "homeless-spouse",
   "metadata": {},
   "outputs": [],
   "source": [
    "from sklearn.model_selection import train_test_split\n",
    "\n",
    "X_train, X_test, y_train, y_test = train_test_split(X, y, test_size=0.2, random_state=42, stratify=y)\n",
    "\n",
    "# validation split\n",
    "\n",
    "X_train, X_validation, y_train, y_validation = train_test_split(X_train, y_train, test_size=0.1, random_state=10, stratify=y_train)"
   ]
  },
  {
   "cell_type": "code",
   "execution_count": 141,
   "id": "collect-naples",
   "metadata": {},
   "outputs": [],
   "source": [
    "Neural_Network = keras.models.Sequential([\n",
    "    # input layer\n",
    "    keras.layers.Dense(256, activation='relu', input_shape=(144,)),\n",
    "\n",
    "    # hidden layer 1\n",
    "    keras.layers.Dense(256, activation='relu'),\n",
    "\n",
    "    # hidden layer 2\n",
    "    keras.layers.Dense(128, activation='relu'),\n",
    "\n",
    "    # output layer\n",
    "    keras.layers.Dense(2, activation='softmax')\n",
    "])"
   ]
  },
  {
   "cell_type": "code",
   "execution_count": 142,
   "id": "young-marine",
   "metadata": {},
   "outputs": [
    {
     "name": "stdout",
     "output_type": "stream",
     "text": [
      "Model: \"sequential_15\"\n",
      "_________________________________________________________________\n",
      "Layer (type)                 Output Shape              Param #   \n",
      "=================================================================\n",
      "dense_60 (Dense)             (None, 256)               37120     \n",
      "_________________________________________________________________\n",
      "dense_61 (Dense)             (None, 256)               65792     \n",
      "_________________________________________________________________\n",
      "dense_62 (Dense)             (None, 128)               32896     \n",
      "_________________________________________________________________\n",
      "dense_63 (Dense)             (None, 2)                 258       \n",
      "=================================================================\n",
      "Total params: 136,066\n",
      "Trainable params: 136,066\n",
      "Non-trainable params: 0\n",
      "_________________________________________________________________\n"
     ]
    }
   ],
   "source": [
    "Neural_Network.summary()"
   ]
  },
  {
   "cell_type": "code",
   "execution_count": 143,
   "id": "sexual-jenny",
   "metadata": {},
   "outputs": [],
   "source": [
    "Neural_Network.compile(loss='sparse_categorical_crossentropy', optimizer='adam', metrics=['accuracy'])"
   ]
  },
  {
   "cell_type": "code",
   "execution_count": 144,
   "id": "religious-missouri",
   "metadata": {},
   "outputs": [
    {
     "name": "stdout",
     "output_type": "stream",
     "text": [
      "Train on 432 samples\n",
      "Epoch 1/10\n",
      "432/432 [==============================] - 0s 438us/sample - loss: 0.1096 - accuracy: 0.9722\n",
      "Epoch 2/10\n",
      "432/432 [==============================] - 0s 70us/sample - loss: 9.6423e-05 - accuracy: 1.0000\n",
      "Epoch 3/10\n",
      "432/432 [==============================] - 0s 74us/sample - loss: 1.3106e-05 - accuracy: 1.0000\n",
      "Epoch 4/10\n",
      "432/432 [==============================] - 0s 76us/sample - loss: 1.3512e-05 - accuracy: 1.0000\n",
      "Epoch 5/10\n",
      "432/432 [==============================] - 0s 74us/sample - loss: 1.0174e-05 - accuracy: 1.0000\n",
      "Epoch 6/10\n",
      "432/432 [==============================] - 0s 72us/sample - loss: 8.5212e-06 - accuracy: 1.0000\n",
      "Epoch 7/10\n",
      "432/432 [==============================] - 0s 70us/sample - loss: 6.7878e-06 - accuracy: 1.0000\n",
      "Epoch 8/10\n",
      "432/432 [==============================] - 0s 72us/sample - loss: 6.4086e-06 - accuracy: 1.0000\n",
      "Epoch 9/10\n",
      "432/432 [==============================] - 0s 79us/sample - loss: 6.2707e-06 - accuracy: 1.0000\n",
      "Epoch 10/10\n",
      "432/432 [==============================] - 0s 70us/sample - loss: 4.2946e-06 - accuracy: 1.0000\n"
     ]
    },
    {
     "data": {
      "text/plain": [
       "<tensorflow.python.keras.callbacks.History at 0x1dbbf4e3288>"
      ]
     },
     "execution_count": 144,
     "metadata": {},
     "output_type": "execute_result"
    }
   ],
   "source": [
    "Neural_Network.fit(X_train, y_train, epochs=10, batch_size=16, verbose=1)"
   ]
  },
  {
   "cell_type": "code",
   "execution_count": 145,
   "id": "logical-feedback",
   "metadata": {},
   "outputs": [
    {
     "name": "stdout",
     "output_type": "stream",
     "text": [
      "120/120 [==============================] - 0s 409us/sample - loss: 3.2454e-06 - accuracy: 1.0000\n"
     ]
    }
   ],
   "source": [
    "evaluation = Neural_Network.evaluate(X_test, y_test, batch_size=16)"
   ]
  },
  {
   "cell_type": "code",
   "execution_count": null,
   "id": "tired-baltimore",
   "metadata": {},
   "outputs": [],
   "source": []
  }
 ],
 "metadata": {
  "kernelspec": {
   "display_name": "Python 3",
   "language": "python",
   "name": "python3"
  },
  "language_info": {
   "codemirror_mode": {
    "name": "ipython",
    "version": 3
   },
   "file_extension": ".py",
   "mimetype": "text/x-python",
   "name": "python",
   "nbconvert_exporter": "python",
   "pygments_lexer": "ipython3",
   "version": "3.7.9"
  }
 },
 "nbformat": 4,
 "nbformat_minor": 5
}
